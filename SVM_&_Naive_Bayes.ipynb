{
  "nbformat": 4,
  "nbformat_minor": 0,
  "metadata": {
    "colab": {
      "provenance": []
    },
    "kernelspec": {
      "name": "python3",
      "display_name": "Python 3"
    },
    "language_info": {
      "name": "python"
    }
  },
  "cells": [
    {
      "cell_type": "markdown",
      "source": [
        "#**SVM & NAIVE BAYES  ASSIGNMENT**"
      ],
      "metadata": {
        "id": "p_LNponNzlkr"
      }
    },
    {
      "cell_type": "markdown",
      "source": [
        "**Question 1 : What is Information Gain, and how is it used in Decision Trees?**\n",
        "\n",
        "**Answer-**Information Gain measures the reduction in uncertainty or \"entropy\" when a dataset is split by an attribute. In decision tree algorithms, it is used to determine the most effective feature for splitting the data at each node, with the goal of creating increasingly pure subsets. A higher information gain indicates a better, more informative split.\n",
        "\n",
        "**How Information Gain works**\n",
        "\n",
        "Information Gain is based on the concept of entropy, which quantifies the amount of \"disorder\" or randomness in a set of data.\n",
        "\n",
        "**High entropy:** The dataset is mixed, and the class labels are evenly distributed. This signifies high uncertainty.\n",
        "\n",
        "**Low entropy (ideal entropy of 0):** The dataset is pure, and all data points belong to a single class. This signifies no uncertainty.\n",
        "\n",
        "Information Gain is calculated by finding the difference between the entropy of the parent node (the dataset before the split) and the weighted average entropy of the child nodes (the subsets created by the split)\n",
        "\n",
        "**Formula-**\n",
        "\n",
        "**IG(S,A)=Entropy(S)-$\\sum _{v\\in Values(A)}\\frac{|S_{v}|}{|S|}Entropy(S_{v})$**\n",
        "\n",
        "- IG(S,A): The Information Gain for dataset \\(S\\) using attribute \\(A\\).\n",
        "\n",
        "- Entropy(S): The entropy of the original dataset \\(S\\).\n",
        "\n",
        "- Values(A): The set of possible values for attribute \\(A\\).\n",
        "\n",
        "- $|S_{v}||S|$: The proportion of data points that have a specific value \\(v\\) for attribute \\(A\\)\n",
        "\n",
        "- $Entropy(S_{v})$: The entropy of the subset of data for a specific value \\(v\\)."
      ],
      "metadata": {
        "id": "2EaVLRNjzmn4"
      }
    },
    {
      "cell_type": "markdown",
      "source": [
        "**Question 2: What is the difference between Gini Impurity and Entropy?\n",
        "Hint: Directly compares the two main impurity measures, highlighting strengths,\n",
        "weaknesses, and appropriate use cases.**\n",
        "\n",
        "**Answer -** Both Gini Impurity and Entropy are metrics used by decision tree algorithms to measure the \"impurity\" or disorder of a node. A node is perfectly \"pure\" if all the data points in it belong to the same class. The goal of a decision tree is to find the splits that decrease impurity the most.\n",
        "\n",
        "**Gini Impurity**\n",
        "\n",
        "- **Definition:** Measures the probability that a randomly chosen data point from a node would be incorrectly classified if it were randomly labeled according to the distribution of class labels in that node.\n",
        "\n",
        "- **Formula:**\n",
        "\n",
        "**$Gini(S)=1-\\sum _{i=1}^{C}p_{i}^{2}$**\n",
        "\n",
        "- $p_{i}$ is the probability of picking an item of class i.\n",
        "\n",
        "- $C$ is the number of classes.\n",
        "\n",
        "- **Range:**\n",
        "\n",
        "The value ranges from 0 (perfectly pure) to 0.5 (maximum impurity for a binary classification).\n",
        "\n",
        "- **Calculation**-\tUses squaring of probabilities, which is computationally faster.\n",
        "\n",
        "- **Bias**-\tTends to isolate the most frequent class in its own branch, leading to faster, greedier splits.\n",
        "\n",
        "- **Resulting Trees**-\tOften yields slightly different tree structures and splits than entropy, but with very similar overall performance.\n",
        "\n",
        "**Entropy**\n",
        "\n",
        "- **Definition:** Measures the amount of uncertainty or randomness in a set of data. A higher entropy value indicates a more random or mixed distribution of classes.\n",
        "\n",
        "- **Formula:**\n",
        "\n",
        "$Entropy(S)=-\\sum _{i=1}^{C}p_{i}\\log _{2}(p_{i})$\n",
        "\n",
        "- $p_{i}$ is the probability of picking an item of class $i$.\n",
        "\n",
        "- $C$ is the number of classes.\n",
        "\n",
        "- **Range:**\n",
        "\n",
        "For binary classification, the value ranges from 0 (perfectly pure) to 1 (maximum impurity). For multi-class, the max value can be higher.\n",
        "Key differences and comparisons\n",
        "\n",
        "- **Calculation**-Uses a logarithmic function, which is more computationally intensive.\n",
        "\n",
        "- **Bias**- Can result in more balanced trees because it is more sensitive to class distribution.\n",
        "\n",
        "- **Resulting trees**- Can result in more balanced trees because it is more sensitive to class distribution."
      ],
      "metadata": {
        "id": "NaP3G96ZzmkX"
      }
    },
    {
      "cell_type": "markdown",
      "source": [
        "**Question 3:What is Pre-Pruning in Decision Trees?**\n",
        "\n",
        "**Answer -** Pre-pruning, also known as \"early stopping,\" is a technique used in decisiCommon pre-pruning criteria\n",
        "Maximum depth: The tree is prevented from growing past a certain number of levels. This is one of the most common and effective pre-pruning strategies.\n",
        "\n",
        "- **Minimum samples per split:** A node will only be split if it contains at least a specified minimum number of data points. This ensures that splits are not made on very small, unrepresentative subsets of the data.\n",
        "\n",
        "- **Minimum samples per leaf:** The creation of a new node is halted if it would result in a leaf node with fewer than a specified minimum number of samples.\n",
        "\n",
        "- **Minimum impurity decrease:** A split will only occur if it causes a decrease in impurity (measured by metrics like Gini impurity or entropy) that is greater than a certain threshold. This ensures that every split provides a meaningful improvement to the model.\n",
        "\n",
        "- **Maximum features:** Limits the number of features considered when looking for the best split.ion phase. Instead of building a full tree and then cutting it back (post-pruning), pre-pruning prevents the tree from becoming overly complex in the first place. This prevents the model from overfitting the training data, leading to better generalization on new, unseen data.\n",
        "\n",
        "The algorithm halts the splitting process at a node if a predetermined stopping condition is met. These conditions are set by the user, often through hyperparameters.\n",
        "\n"
      ],
      "metadata": {
        "id": "rhgzlOcprr9S"
      }
    },
    {
      "cell_type": "markdown",
      "source": [
        "**Question 4:Write a Python program to train a Decision Tree Classifier using Gini\n",
        "Impurity as the criterion and print the feature importances (practical).\n",
        "Hint: Use criterion='gini' in DecisionTreeClassifier and access .feature_importances_.\n",
        "(Include your Python code and output in the code box below.)**\n",
        "\n"
      ],
      "metadata": {
        "id": "4VwdUetysnUt"
      }
    },
    {
      "cell_type": "code",
      "source": [
        "# Import necessary libraries\n",
        "from sklearn.datasets import load_iris\n",
        "from sklearn.tree import DecisionTreeClassifier\n",
        "from sklearn.model_selection import train_test_split\n",
        "\n",
        "# Load the Iris dataset\n",
        "iris = load_iris()\n",
        "X = iris.data\n",
        "y = iris.target\n",
        "\n",
        "# Split the dataset into training and testing sets\n",
        "X_train, X_test, y_train, y_test = train_test_split(X, y, test_size=0.3, random_state=42)\n",
        "\n",
        "# Create and train the Decision Tree Classifier using Gini Impurity\n",
        "clf = DecisionTreeClassifier(criterion='gini', random_state=42)\n",
        "clf.fit(X_train, y_train)\n",
        "\n",
        "# Print feature importances\n",
        "print(\"Feature Importances:\")\n",
        "for feature, importance in zip(iris.feature_names, clf.feature_importances_):\n",
        "    print(f\"{feature}: {importance:.4f}\")\n",
        "\n",
        "# Evaluate model accuracy\n",
        "accuracy = clf.score(X_test, y_test)\n",
        "print(f\"\\nModel Accuracy on Test Data: {accuracy:.2f}\")\n"
      ],
      "metadata": {
        "colab": {
          "base_uri": "https://localhost:8080/"
        },
        "id": "TsXCmFeAs3hs",
        "outputId": "9cd62930-e6f2-49e3-c976-22ffead16958"
      },
      "execution_count": null,
      "outputs": [
        {
          "output_type": "stream",
          "name": "stdout",
          "text": [
            "Feature Importances:\n",
            "sepal length (cm): 0.0000\n",
            "sepal width (cm): 0.0191\n",
            "petal length (cm): 0.8933\n",
            "petal width (cm): 0.0876\n",
            "\n",
            "Model Accuracy on Test Data: 1.00\n"
          ]
        }
      ]
    },
    {
      "cell_type": "markdown",
      "source": [
        "**Question 5: What is a Support Vector Machine (SVM)?**\n",
        "\n",
        "**Answer -** A Support Vector Machine (SVM) is a supervised machine learning algorithm used for classification and regression tasks. It is especially powerful for solving binary classification problems (e.g., spam vs. not spam, positive vs. negative).\n",
        "\n",
        "SVM aims to find the best boundary (called a hyperplane) that separates the data points of different classes with the maximum margin.\n",
        "\n",
        "- The margin is the distance between the hyperplane and the nearest data points from each class.\n",
        "\n",
        "- The data points that lie closest to this boundary are called support vectors — they are the most critical elements of the dataset because they define the position of the separating line (or plane).\n",
        "\n"
      ],
      "metadata": {
        "id": "UScMizqqs_vx"
      }
    },
    {
      "cell_type": "markdown",
      "source": [
        "**Question 6: What is the Kernel Trick in SVM?**\n",
        "\n",
        "**Answer -** The Kernel Trick is a mathematical method used by Support Vector Machines (SVMs) and other machine learning algorithms to perform non-linear classification without explicitly mapping data into a higher-dimensional space. This solves the problem of finding a linear decision boundary for data that is not linearly separable in its original form.\n",
        "\n",
        "In a regular (linear) SVM, we try to find a straight line (or hyperplane) that separates data into classes.\n",
        "But if the data isn’t linearly separable in its original space, we can transform it into a higher-dimensional space where a linear separator can be found.\n",
        "\n",
        "Instead of explicitly computing this transformation (which can be very expensive), the kernel trick computes the dot product in the higher-dimensional space directly using a kernel function.\n",
        "\n",
        "🔹 In Simple Terms\n",
        "\n",
        "- The kernel trick replaces this dot product:\n",
        "\n",
        "$ϕ(xi​)⋅ϕ(xj​)$\n",
        "\n",
        "- with a kernel function:\n",
        "\n",
        "$K(xi​,xj​)$\n",
        "\n",
        "where\n",
        "$ϕx$ is the (possibly high-dimensional) feature mapping.\n",
        "\n",
        "This means SVM can find a separating hyperplane in the high-dimensional space without ever computing the coordinates in that space.\n"
      ],
      "metadata": {
        "id": "QPmwkCmfvOdK"
      }
    },
    {
      "cell_type": "markdown",
      "source": [
        "**Question 7: Write a Python program to train two SVM classifiers with Linear and RBF\n",
        "kernels on the Wine dataset, then compare their accuracies.\n",
        "Hint:Use SVC(kernel='linear') and SVC(kernel='rbf'), then compare accuracy scores after fitting\n",
        "on the same dataset.\n",
        "(Include your Python code and output in the code box below.)**\n",
        "\n"
      ],
      "metadata": {
        "id": "EEKmVt8MFKSQ"
      }
    },
    {
      "cell_type": "code",
      "source": [
        "\n",
        "from sklearn.datasets import load_wine\n",
        "from sklearn.model_selection import train_test_split\n",
        "from sklearn.preprocessing import StandardScaler\n",
        "from sklearn.svm import SVC\n",
        "from sklearn.metrics import accuracy_score\n",
        "\n",
        "# Load the Wine dataset\n",
        "wine = load_wine()\n",
        "X = wine.data\n",
        "y = wine.target\n",
        "\n",
        "# Split into training and testing sets (80% train, 20% test)\n",
        "X_train, X_test, y_train, y_test = train_test_split(X, y, test_size=0.2, random_state=42)\n",
        "\n",
        "# Standardize the features (important for SVM)\n",
        "scaler = StandardScaler()\n",
        "X_train = scaler.fit_transform(X_train)\n",
        "X_test = scaler.transform(X_test)\n",
        "\n",
        "# Train SVM with Linear kernel\n",
        "svm_linear = SVC(kernel='linear', random_state=42)\n",
        "svm_linear.fit(X_train, y_train)\n",
        "y_pred_linear = svm_linear.predict(X_test)\n",
        "acc_linear = accuracy_score(y_test, y_pred_linear)\n",
        "\n",
        "# Train SVM with RBF kernel\n",
        "svm_rbf = SVC(kernel='rbf', random_state=42)\n",
        "svm_rbf.fit(X_train, y_train)\n",
        "y_pred_rbf = svm_rbf.predict(X_test)\n",
        "acc_rbf = accuracy_score(y_test, y_pred_rbf)\n",
        "\n",
        "# Print accuracy comparison\n",
        "print(\"Accuracy of SVM with Linear Kernel:\", acc_linear)\n",
        "print(\"Accuracy of SVM with RBF Kernel:\", acc_rbf)\n"
      ],
      "metadata": {
        "colab": {
          "base_uri": "https://localhost:8080/"
        },
        "id": "XmDXd0asFQbD",
        "outputId": "80651ee8-ca68-4d94-a89d-55f7ecf34f3c"
      },
      "execution_count": 1,
      "outputs": [
        {
          "output_type": "stream",
          "name": "stdout",
          "text": [
            "Accuracy of SVM with Linear Kernel: 0.9722222222222222\n",
            "Accuracy of SVM with RBF Kernel: 1.0\n"
          ]
        }
      ]
    },
    {
      "cell_type": "markdown",
      "source": [
        "**Question 8: What is the Naïve Bayes classifier, and why is it called \"Naïve\"?**\n",
        "\n",
        "**Answer**- The Naïve Bayes classifier is a probabilistic machine learning algorithm based on Bayes’ Theorem, primarily used for classification tasks such as spam detection, sentiment analysis, and document categorization.\n",
        "\n",
        "Naïve Bayes predicts the class of a given data point based on the probability that it belongs to each class.\n",
        "It uses Bayes’ Theorem as follows:\n",
        "\n",
        "![bayes-theorem-2.png](data:image/png;base64,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)\n",
        "\n",
        "Where:\n",
        "\n",
        "- $P(C∣X)$: Posterior probability — probability of class\n",
        "$C$ given features\n",
        "$X$.\n",
        "\n",
        "- $P(X∣C)$: Likelihood — probability of features\n",
        "$X$ given class\n",
        "$C$.\n",
        "\n",
        "- $P(C)$: Prior probability of class\n",
        "$C$.\n",
        "\n",
        "- $P(X)$: Evidence (normalizing constant).\n",
        "\n",
        "- It is called “Naïve” because it assumes that all features (predictors) are independent of each other given the class label.\n",
        "\n",
        "- For example, in spam detection:\n",
        "\n",
        "  - Features like “money,” “win,” and “offer” are treated as independent,\n",
        "even though in reality, they often appear together in spam messages.\n",
        "\n",
        "This simplifying assumption makes the model computationally efficient and easy to train — but somewhat naïve since real-world data rarely satisfies complete feature independence."
      ],
      "metadata": {
        "id": "nzlXAyf8Fpw_"
      }
    },
    {
      "cell_type": "markdown",
      "source": [
        "**Question 9: Explain the differences between Gaussian Naïve Bayes, Multinomial Naïve\n",
        "Bayes, and Bernoulli Naïve Bayes**\n",
        "\n",
        "**Answer -**\n",
        "\n",
        "- **Gaussian Naïve Bayes:**\n",
        "\n",
        " This classifier is used for continuous data, such as numerical values like height, weight, or temperature. It assumes that the values of each feature are distributed according to a normal (Gaussian) distribution.\n",
        "\n",
        "- **Multinomial Naïve Bayes:**\n",
        "\n",
        "This is suitable for discrete data that represents counts or frequencies, such as the number of times a word appears in a document. It is widely used in text classification and spam filtering.\n",
        "\n",
        "- **Bernoulli Naïve Bayes:** This is designed for binary or Boolean features. It only considers the presence or absence of a feature, not its frequency. For instance, in text analysis, it would only indicate whether a specific word is in a document (1) or not (0).\n",
        "\n",
        "\n",
        "\n"
      ],
      "metadata": {
        "id": "AatyiCoFi6wM"
      }
    },
    {
      "cell_type": "markdown",
      "source": [
        "**Question 10: Breast Cancer Dataset\n",
        "Write a Python program to train a Gaussian Naïve Bayes classifier on the Breast Cancer\n",
        "dataset and evaluate accuracy.\n",
        "Hint:Use GaussianNB() from sklearn.naive_bayes and the Breast Cancer dataset from\n",
        "sklearn.datasets.\n",
        "(Include your Python code and output in the code box below.)**"
      ],
      "metadata": {
        "id": "mhf99SIHUPTY"
      }
    },
    {
      "cell_type": "code",
      "source": [
        "# Import necessary libraries\n",
        "from sklearn.datasets import load_breast_cancer\n",
        "from sklearn.model_selection import train_test_split\n",
        "from sklearn.naive_bayes import GaussianNB\n",
        "from sklearn.metrics import accuracy_score, classification_report\n",
        "\n",
        "# Load the Breast Cancer dataset\n",
        "data = load_breast_cancer()\n",
        "X = data.data       # Features\n",
        "y = data.target     # Target labels\n",
        "\n",
        "# Split the data into training and testing sets (80% train, 20% test)\n",
        "X_train, X_test, y_train, y_test = train_test_split(X, y, test_size=0.2, random_state=42)\n",
        "\n",
        "# Create a Gaussian Naïve Bayes classifier\n",
        "gnb = GaussianNB()\n",
        "\n",
        "# Train (fit) the model\n",
        "gnb.fit(X_train, y_train)\n",
        "\n",
        "# Make predictions on the test set\n",
        "y_pred = gnb.predict(X_test)\n",
        "\n",
        "# Evaluate accuracy\n",
        "accuracy = accuracy_score(y_test, y_pred)\n",
        "\n",
        "# Print the results\n",
        "print(\"Gaussian Naïve Bayes Classifier on Breast Cancer Dataset\")\n",
        "print(\"------------------------------------------------------\")\n",
        "print(f\"Accuracy: {accuracy:.4f}\\n\")\n",
        "print(\"Classification Report:\\n\", classification_report(y_test, y_pred))\n"
      ],
      "metadata": {
        "colab": {
          "base_uri": "https://localhost:8080/"
        },
        "id": "QZFfTvwOUaIF",
        "outputId": "09d928b2-206c-452e-889d-4c3c81c6d0d5"
      },
      "execution_count": 1,
      "outputs": [
        {
          "output_type": "stream",
          "name": "stdout",
          "text": [
            "Gaussian Naïve Bayes Classifier on Breast Cancer Dataset\n",
            "------------------------------------------------------\n",
            "Accuracy: 0.9737\n",
            "\n",
            "Classification Report:\n",
            "               precision    recall  f1-score   support\n",
            "\n",
            "           0       1.00      0.93      0.96        43\n",
            "           1       0.96      1.00      0.98        71\n",
            "\n",
            "    accuracy                           0.97       114\n",
            "   macro avg       0.98      0.97      0.97       114\n",
            "weighted avg       0.97      0.97      0.97       114\n",
            "\n"
          ]
        }
      ]
    }
  ]
}